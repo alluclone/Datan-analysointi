{
 "cells": [
  {
   "cell_type": "markdown",
   "metadata": {},
   "source": [
    "# Datan analysointi S2020 - Tehtävät kerta 6\n",
    "\n",
    "Palauta ratkaisusi Moodleen, kun olet ensin testannut ratkaisusi toimivuuden Notebookilla tai omalla koneellasi. Kun olet palauttanut tehtäväsi Moodleen, ne arvioidaan pistein:\n",
    "* 1,0 p. Vastaus oikein ensimmäisellä yrityksellä.\n",
    "* 0,5 p. Vastaus oikein toisella yrityksellä.\n",
    "* 0 p. Vastaus on annettu kolmannella yrityksellä.\n",
    "\n",
    "**Tee tehtävät ilman for-silmukoita tms.**"
   ]
  },
  {
   "cell_type": "markdown",
   "metadata": {},
   "source": [
    "## 1. Säädatan aikaleimojen muodostaminen\n",
    "\n",
    "Tee funktio saa(url), joka tekee seuraavaa:\n",
    "* lataa datan DataFrameen [url:sta](https://student.labranet.jamk.fi/~huoptu/datananal_s20/kerta6/harjoitukset/saatiedot.csv),\n",
    "* laskee DataFrameen uuden sarakkeen 'From start, s' riveille kuinka paljon aikaa on kulunut sekunteina aikajärjestyksessä ensimmäisestä mittaustapahtumasta,\n",
    "* asettaa DataFramelle indeksin sarakkeesta 'From start, s' muodossa 'tuntia.minuuttia.sekuntia' [Pandasin aikaleimana](https://pandas.pydata.org/pandas-docs/stable/reference/api/pandas.to_datetime.html),\n",
    "* tulostaa vastaukseen viisi ensimmäistä riviä sarakkeista 'From start, s' ja 'Pressure (msl), hPa', kun mittauksien alusta oli kulunut aikaa enemmän kuin '09.59.45'.\n",
    "\n",
    "Tässä tehtävässä:\n",
    "* url='https://student.labranet.jamk.fi/~huoptu/datananal_s20/kerta6/harjoitukset/saatiedot.csv'\n",
    "\n",
    "**Esimerkiksi, saa(url) tulostaa:**\n",
    "<img src=\"https://student.labranet.jamk.fi/~huoptu/datananal_s20/kerta6/harjoitukset/h6t1.png\" width=\"300\"/>"
   ]
  },
  {
   "cell_type": "code",
   "execution_count": 381,
   "metadata": {
    "scrolled": true
   },
   "outputs": [
    {
     "name": "stdout",
     "output_type": "stream",
     "text": [
      "         From start, s Pressure (msl), hPa\n",
      "hh.mm.ss                                  \n",
      "10:00:00       36000.0              1007.6\n",
      "10:01:00       36060.0              1007.6\n",
      "10:02:00       36120.0              1007.7\n",
      "10:03:00       36180.0              1007.6\n",
      "10:04:00       36240.0              1007.6\n",
      "...                ...                 ...\n",
      "23:54:00       86040.0               998.3\n",
      "23:55:00       86100.0               998.2\n",
      "23:56:00       86160.0               998.3\n",
      "23:57:00       86220.0               998.4\n",
      "23:58:00       86280.0               998.4\n",
      "\n",
      "[839 rows x 2 columns]\n"
     ]
    }
   ],
   "source": [
    "import datetime\n",
    "import pandas as pd\n",
    "def saa(url):\n",
    "    df=pd.read_csv(url)\n",
    "    df['Unnamed: 0']=pd.to_datetime(df['Unnamed: 0'])\n",
    "    df=df.sort_values('Unnamed: 0')\n",
    "    x=df['Unnamed: 0']\n",
    "    df['From start, s']=x-x.iloc[0]\n",
    "  \n",
    "    ajat=df['From start, s']\n",
    "    df=df.set_index(ajat)\n",
    "    df=df.rename_axis('hh.mm.ss',axis=0)\n",
    "    \n",
    "    df2=df[['From start, s','Pressure (msl), hPa']]\n",
    "    df2=df2.loc[df2.index >'09:59:45']\n",
    "    df2['From start, s']=df2['From start, s'].dt.seconds\n",
    "    df2=df2.applymap('{:.1f}'.format)\n",
    "    print(df2)\n",
    "    \n",
    "url='https://student.labranet.jamk.fi/~huoptu/datananal_s20/kerta6/harjoitukset/saatiedot.csv'\n",
    "saa(url)\n"
   ]
  },
  {
   "cell_type": "markdown",
   "metadata": {},
   "source": [
    "## 2. Säädatan aikaleimojen muodostaminen (2)\n",
    "\n",
    "Tee funktio saa(url), joka tekee seuraavaa:\n",
    "* lataa datan DataFrameen [url:sta](https://student.labranet.jamk.fi/~huoptu/datananal_s20/kerta6/harjoitukset/saatiedot.csv),\n",
    "* laskee DataFrameen uuden sarakkeen 'From start, s' riveille kuinka paljon aikaa on kulunut sekunteina aikajärjestyksessä ensimmäisestä mittaustapahtumasta,\n",
    "* asettaa DataFramelle indeksin sarakkeesta 'From start, s' muodossa 'tuntia.minuuttia.sekuntia' [Pandasin aikaleimana](https://pandas.pydata.org/pandas-docs/stable/reference/api/pandas.to_datetime.html),\n",
    "* tallentaa uuteen DataFrameen sarakkeet 'Air temperature, degC' ja 'Pressure (msl), hPa',\n",
    "* laskee edelleen uuteen DataFrameen sarakkeiden 'Air temperature, degC' ja 'Pressure (msl), hPa' riveillä olevien arvojen tuntikohtaiset keskiarvot,\n",
    "* pyöristää ja esittää DataFramen lukuarvot yhden desimaalin tarkkuudella,\n",
    "* tulostaa vastaukseen viisi ensimmäistä riviä sarakkeista 'Air temperature, degC' ja 'Pressure (msl), hPa', kun mittauksien alusta oli kulunut aikaa vähintään '07.00.00'.\n",
    "\n",
    "Tässä tehtävässä:\n",
    "* url='https://student.labranet.jamk.fi/~huoptu/datananal_s20/kerta6/harjoitukset/saatiedot.csv'\n",
    "\n",
    "**Esimerkiksi saa(url) tulostaa:**\n",
    "<img src=\"https://student.labranet.jamk.fi/~huoptu/datananal_s20/kerta6/harjoitukset/h6t2.png\" width=\"325\"/>"
   ]
  },
  {
   "cell_type": "code",
   "execution_count": 281,
   "metadata": {},
   "outputs": [
    {
     "name": "stdout",
     "output_type": "stream",
     "text": [
      "         Air temperature, degC Pressure (msl), hPa\n",
      "hh.mm.ss                                          \n",
      "07:00:00                   5.2              1008.9\n",
      "08:00:00                   4.8              1008.2\n",
      "09:00:00                   4.8              1007.9\n",
      "10:00:00                   5.0              1007.7\n",
      "11:00:00                   5.1              1007.3\n"
     ]
    }
   ],
   "source": [
    "import datetime\n",
    "import pandas as pd\n",
    "def saa(url):\n",
    "    df=pd.read_csv(url)\n",
    "    df['Unnamed: 0']=pd.to_datetime(df['Unnamed: 0'])\n",
    "    df=df.sort_values('Unnamed: 0')\n",
    "    x=df['Unnamed: 0']\n",
    "    df['From start, s']=x-x.iloc[0]\n",
    "    df['From start, s']=(df['From start, s'].dt.seconds)\n",
    "    \n",
    "    #ajat=pd.to_datetime(df['From start, s']).dt.strftime(\"%H:%M:%S\")\n",
    "    ajat=df['From start, s'].apply(pd.to_timedelta, unit='s')\n",
    "    df=df.set_index(ajat)\n",
    "    df=df.rename_axis('hh.mm.ss',axis=0)\n",
    "    df2=df[['Air temperature, degC','Pressure (msl), hPa']]\n",
    "    \n",
    "    df2=df2.resample('H')['Air temperature, degC','Pressure (msl), hPa'].mean()\n",
    "    df2=df2.applymap('{:.1f}'.format)\n",
    "    df2=df2.loc[df2.index >='07:00:00']\n",
    "    print(df2.head(5))\n",
    "    \n",
    "url='https://student.labranet.jamk.fi/~huoptu/datananal_s20/kerta6/harjoitukset/saatiedot.csv'\n",
    "saa(url)"
   ]
  },
  {
   "cell_type": "markdown",
   "metadata": {},
   "source": [
    "## 3. Aikasarjadatan generointia\n",
    "\n",
    "Eräässä sovelluksessa tarvitaan tieto kappaleen paikasta $xy$ - koordinaatistossa tunnetulla ajanhetkellä. Kappaleen lähtiessä liikkeelle levosta ajanhetkellä $t$ on 0 sekuntia, kappaleen paikka $xy$ - tasolla metreinä on\n",
    "$$\n",
    "x=\\frac{t\\cdot v_0}{\\sqrt{2}}\\ \\text{ja}\n",
    "$$\n",
    "$$\n",
    "y=\\frac{t\\cdot v_0}{\\sqrt{2}} - \\frac{9.82\\ \\text{m}/\\text{s}^2\\cdot t^2}{2},\n",
    "$$\n",
    "missä kappaleen lähtönopeus $v_0$ on 600 m/s ja $t$ on aika sekunteina. Kappaleen liikeyhtälö pätee, jos kappale lähtee liikkeelle 45-asteen kulmassa $x$-akseliin nähden ja väliaineen vastausvoimat oletetaan olemattomiksi.\n",
    "\n",
    "Tätä varten tee funktio timedata(start, end), joka tekee seuraavaa:\n",
    "* muodostaa DataFramen indeksiksi [Pandasin aikaleiman](https://pandas.pydata.org/pandas-docs/stable/reference/api/pandas.to_datetime.html) muodossa **tuntia:minuuttia:sekuntia** 20 sekunnin välein alkaen ajanhetkestä '2019-12-31 23:59:00' hetkeen '2020-01-01 00:00:30',\n",
    "* esittää uudessa DataFramessa kappaleen lentoajan $t$ sekunteina sarakkeessa 't, s', \n",
    "* laskee DataFrameen kappaleen paikan x-akselin suunnassa metreinä sarakkeeseen 'x, m',\n",
    "* laskee DataFrameen kappaleen paikan y-akselin suunnassa metreinä sarakkeeseen 'y, m',\n",
    "* pyöristää ja esittää DataFramessa lukuarvot kokonaislukujen tarkkuuteen,\n",
    "* tulostaa vastaukseen viisi ensimmäistä riviä ajanhetkestä 0 sekuntia (sarake 't, s') eteenpäin.\n",
    "\n",
    "Tässä tehtävässä:\n",
    "* start='2019-12-31 23:59:00'\n",
    "* end='2020-01-01 00:00:30'\n",
    "\n",
    "**Esimerkiksi timedata(start, end) tulostaa:**\n",
    "<img src=\"https://student.labranet.jamk.fi/~huoptu/datananal_s20/kerta6/harjoitukset/h6t3.png\" width=\"190\"/>\n"
   ]
  },
  {
   "cell_type": "code",
   "execution_count": 396,
   "metadata": {},
   "outputs": [
    {
     "ename": "TypeError",
     "evalue": "unsupported operand type(s) for -: 'str' and 'str'",
     "output_type": "error",
     "traceback": [
      "\u001b[1;31m---------------------------------------------------------------------------\u001b[0m",
      "\u001b[1;31mTypeError\u001b[0m                                 Traceback (most recent call last)",
      "\u001b[1;32m<ipython-input-396-264d346a67c0>\u001b[0m in \u001b[0;36m<module>\u001b[1;34m\u001b[0m\n\u001b[0;32m     18\u001b[0m \u001b[0mstart\u001b[0m\u001b[1;33m=\u001b[0m\u001b[1;34m'2019-12-31 23:59:00'\u001b[0m\u001b[1;33m\u001b[0m\u001b[1;33m\u001b[0m\u001b[0m\n\u001b[0;32m     19\u001b[0m \u001b[0mend\u001b[0m\u001b[1;33m=\u001b[0m\u001b[1;34m'2020-01-01 00:00:30'\u001b[0m\u001b[1;33m\u001b[0m\u001b[1;33m\u001b[0m\u001b[0m\n\u001b[1;32m---> 20\u001b[1;33m \u001b[0mtimedata\u001b[0m\u001b[1;33m(\u001b[0m\u001b[0mstart\u001b[0m\u001b[1;33m,\u001b[0m\u001b[0mend\u001b[0m\u001b[1;33m)\u001b[0m\u001b[1;33m\u001b[0m\u001b[1;33m\u001b[0m\u001b[0m\n\u001b[0m",
      "\u001b[1;32m<ipython-input-396-264d346a67c0>\u001b[0m in \u001b[0;36mtimedata\u001b[1;34m(start, end)\u001b[0m\n\u001b[0;32m      8\u001b[0m \u001b[1;33m\u001b[0m\u001b[0m\n\u001b[0;32m      9\u001b[0m \u001b[1;33m\u001b[0m\u001b[0m\n\u001b[1;32m---> 10\u001b[1;33m     \u001b[0mdf\u001b[0m\u001b[1;33m[\u001b[0m\u001b[1;34m't, s'\u001b[0m\u001b[1;33m]\u001b[0m\u001b[1;33m=\u001b[0m\u001b[1;33m(\u001b[0m\u001b[0mdf\u001b[0m\u001b[1;33m.\u001b[0m\u001b[0mindex\u001b[0m\u001b[1;33m-\u001b[0m\u001b[0mdf\u001b[0m\u001b[1;33m.\u001b[0m\u001b[0mindex\u001b[0m\u001b[1;33m[\u001b[0m\u001b[1;36m0\u001b[0m\u001b[1;33m]\u001b[0m\u001b[1;33m)\u001b[0m\u001b[1;33m.\u001b[0m\u001b[0mseconds\u001b[0m\u001b[1;33m\u001b[0m\u001b[1;33m\u001b[0m\u001b[0m\n\u001b[0m\u001b[0;32m     11\u001b[0m     \u001b[0mv\u001b[0m\u001b[1;33m=\u001b[0m\u001b[1;36m600\u001b[0m\u001b[1;33m\u001b[0m\u001b[1;33m\u001b[0m\u001b[0m\n\u001b[0;32m     12\u001b[0m     \u001b[0mt\u001b[0m\u001b[1;33m=\u001b[0m\u001b[0mdf\u001b[0m\u001b[1;33m[\u001b[0m\u001b[1;34m't, s'\u001b[0m\u001b[1;33m]\u001b[0m\u001b[1;33m\u001b[0m\u001b[1;33m\u001b[0m\u001b[0m\n",
      "\u001b[1;32mC:\\Pelit\\Softat\\Anaconda\\lib\\site-packages\\pandas\\core\\indexes\\base.py\u001b[0m in \u001b[0;36m__sub__\u001b[1;34m(self, other)\u001b[0m\n\u001b[0;32m   2129\u001b[0m \u001b[1;33m\u001b[0m\u001b[0m\n\u001b[0;32m   2130\u001b[0m     \u001b[1;32mdef\u001b[0m \u001b[0m__sub__\u001b[0m\u001b[1;33m(\u001b[0m\u001b[0mself\u001b[0m\u001b[1;33m,\u001b[0m \u001b[0mother\u001b[0m\u001b[1;33m)\u001b[0m\u001b[1;33m:\u001b[0m\u001b[1;33m\u001b[0m\u001b[1;33m\u001b[0m\u001b[0m\n\u001b[1;32m-> 2131\u001b[1;33m         \u001b[1;32mreturn\u001b[0m \u001b[0mIndex\u001b[0m\u001b[1;33m(\u001b[0m\u001b[0mnp\u001b[0m\u001b[1;33m.\u001b[0m\u001b[0marray\u001b[0m\u001b[1;33m(\u001b[0m\u001b[0mself\u001b[0m\u001b[1;33m)\u001b[0m \u001b[1;33m-\u001b[0m \u001b[0mother\u001b[0m\u001b[1;33m)\u001b[0m\u001b[1;33m\u001b[0m\u001b[1;33m\u001b[0m\u001b[0m\n\u001b[0m\u001b[0;32m   2132\u001b[0m \u001b[1;33m\u001b[0m\u001b[0m\n\u001b[0;32m   2133\u001b[0m     \u001b[1;32mdef\u001b[0m \u001b[0m__rsub__\u001b[0m\u001b[1;33m(\u001b[0m\u001b[0mself\u001b[0m\u001b[1;33m,\u001b[0m \u001b[0mother\u001b[0m\u001b[1;33m)\u001b[0m\u001b[1;33m:\u001b[0m\u001b[1;33m\u001b[0m\u001b[1;33m\u001b[0m\u001b[0m\n",
      "\u001b[1;31mTypeError\u001b[0m: unsupported operand type(s) for -: 'str' and 'str'"
     ]
    }
   ],
   "source": [
    "import pandas as pd\n",
    "import numpy as np\n",
    "def timedata(start, end):\n",
    "    ajat=pd.date_range(start, end, freq='20s')\n",
    "    ajat = ajat.strftime(\"%H:%M:%S\")\n",
    "    df=pd.DataFrame(index=ajat)\n",
    "    df=df.rename_axis('hh:mm:ss',axis=0)\n",
    "\n",
    "    \n",
    "    df['t, s']=(df.index-df.index[0]).seconds\n",
    "    v=600\n",
    "    t=df['t, s']\n",
    "    df['x, m']=((t*v)/np.sqrt(2))\n",
    "    df['y, m']=((t*v/np.sqrt(2))-((9.82*t**2)/2))\n",
    "    df=df.applymap(\"{:.0f}\".format)\n",
    "    print(df.head(5)) \n",
    "\n",
    "start='2019-12-31 23:59:00'\n",
    "end='2020-01-01 00:00:30'\n",
    "timedata(start,end)"
   ]
  },
  {
   "cell_type": "markdown",
   "metadata": {},
   "source": [
    "## 4. Aikasarjadatan lineaarinen interpolointi\n",
    "\n",
    "Tämän tehtävän datassa esiintyvät sarakkeet 'hh:mm:ss', 'aika, s' ja 'y, m', mitkä edustavat kellonaikaa mittauksian alusta, aikaa mittauksien alusta sekunteina ja kappaleen paikkaa metreinä. Tee funktio interp_times(url), joka tekee seuraavaa:\n",
    "* lataa datan [url:sta](https://student.labranet.jamk.fi/~huoptu/datananal_s20/kerta6/harjoitukset/motion.csv) DataFrameen,\n",
    "* täyttää mittauksien alusta lähtien uuden DataFramen indekseihin puuttuvat kellonajan arvot ja puuttuvat ajan arvot sarakkeeseen 't_tot, s' 5 sekunnin aikavälein,\n",
    "* täyttää mittauksien alusta lähtien uuteen DataFrameen puuttuvat kappaleen paikan arvot sarakkeeseen 'int_y, m' lineaarisen approksimaation mukaan 5 sekunnin välein,\n",
    "* pyöristää DataFramen lukuarvot kokonaislukujen tarkkuuteen,\n",
    "* tulostaa vastaukseen sarakkeet 't_tot, s' ja 'int_y, m', kun mittauksien alusta lukien kellonaika on '00:00:45'-'00:01:31'.\n",
    "\n",
    "Tässä tehtävässä lineaarinen approksimaatio tarkoittaa kahden eri pisteen väliin jäävien paikan $y$ arvojen laskemista suoran yhtälön avulla\n",
    "$$\n",
    "y=\\left(\\frac{y_{i+1}-y_{i}}{t_{i+1}-t_{i}}\\right)\\cdot(t-t_{i})+y_{i},\n",
    "$$\n",
    "missä $y_i$ ja $y_{i+1}$ ovat alkuperäisen datasetin peräkkäiset kappaleen paikat (metreinä) sekä $t_i$ ja $t_{i+1}$ ovat alkuperäisen datasetin peräkkäiset ajanhetket sekunteina. Kappaleen paikka $y$ on metreinä ja tunnettujen pisteiden välissä oleva ajanhetki $t$ on sekunteina. Indeksi $i$ tarkoittaa alkuperäisen datan rivi-indeksiä ja $i+1$ tarkoittaa seuraavaa rivi-indeksiä.\n",
    "\n",
    "**Huom! Älä käytä tehtävässä for - silmukoita.**\n",
    "\n",
    "Tässä tehtävässä:\n",
    "* url='https://student.labranet.jamk.fi/~huoptu/datananal_s20/kerta6/harjoitukset/motion.csv'\n",
    "\n",
    "**Esimerkiksi interp_times(url) tulostaa:**\n",
    "<img src=\"https://student.labranet.jamk.fi/~huoptu/datananal_s20/kerta6/harjoitukset/h6t5.png\" width=\"190\"/>"
   ]
  },
  {
   "cell_type": "code",
   "execution_count": 262,
   "metadata": {},
   "outputs": [
    {
     "name": "stdout",
     "output_type": "stream",
     "text": [
      "         t_tot, s  int_y, m\n",
      "hh:mm:ss                   \n",
      "00:00:45        45    17337\n",
      "00:00:50        50    17790\n",
      "00:00:55        55    18244\n",
      "00:01:00        60    18697\n",
      "00:01:05        65    18414\n",
      "00:01:10        70    18131\n",
      "00:01:15        75    17848\n",
      "00:01:20        80    16828\n",
      "00:01:25        85    15808\n",
      "00:01:30        90    14789\n"
     ]
    }
   ],
   "source": [
    "import pandas as pd\n",
    "def interp_times(url):\n",
    "    df=pd.read_csv(url, sep='\\t',parse_dates=['hh:mm:ss'])\n",
    "    \n",
    "    df['hh:mm:ss'] = df['hh:mm:ss'].dt.strftime(\"%H:%M:%S\")\n",
    "    df['hh:mm:ss']=df['hh:mm:ss'].apply(pd.to_timedelta, unit='s')\n",
    "    df=df.set_index('hh:mm:ss')\n",
    "    df2=df.resample('5s').asfreq()\n",
    "    \n",
    "    df2['aika, s']=df2['aika, s'].interpolate()\n",
    "    df2['y, m']=df2['y, m'].interpolate()\n",
    "    df2=df2.applymap(\"{:.0f}\".format)\n",
    "    df2=df2.rename(columns={'aika, s':'t_tot, s ','y, m':'int_y, m'})\n",
    "    df2=df2.loc[(df2.index >='00:00:45') & (df2.index<'00:01:31')]\n",
    "    \n",
    "    print(df2)\n",
    "    \n",
    "url='https://student.labranet.jamk.fi/~huoptu/datananal_s20/kerta6/harjoitukset/motion.csv'\n",
    "interp_times(url)"
   ]
  },
  {
   "cell_type": "code",
   "execution_count": null,
   "metadata": {},
   "outputs": [],
   "source": []
  },
  {
   "cell_type": "markdown",
   "metadata": {},
   "source": [
    "## 5. Aikasarjojen yhdistäminen\n",
    "\n",
    "Tässä tehtävässä yhdistetään kaksi eri aikasarjadatasettiä niiden aikaleimojen perusteella. \n",
    "* [Datasetissä](https://student.labranet.jamk.fi/~huoptu/datananal_s20/kerta6/harjoitukset/saatiedot_kumpula_1d.csv) nro 1. aikainformaatio on sisällytetty ensimmäiseen ensimmäiseen nimeämättömään sarakkeeseen muodossa 'vuosi-kuukausi-päivä tunnit:minuutit:sekunnit'. Datasetissä nro 1. tarvitaan jatkolaskuja varten sarakkeen 'Air temperature, degC' lämpötilainformaatio.\n",
    "* [Datasetissä](https://student.labranet.jamk.fi/~huoptu/datananal_s20/kerta6/harjoitukset/indoormeas.csv) nro 2. aikainformaatio on sisällytetty ensimmäiseen sarakkeeseen 'time, s' sekunteina. Datasetissä nro 2. tarvitaan jatkolaskuja varten sarakkeen 'Temp, C-deg' lämpötilainformaatio.\n",
    "\n",
    "Tee funktio tempdiff(url1, url2), joka tekee seuraavaa:\n",
    "* lataa aikasarjadatan nro 1. DataFrameen [url:sta](https://student.labranet.jamk.fi/~huoptu/datananal_s20/kerta6/harjoitukset/saatiedot_kumpula_1d.csv) ja aikasarjadatan nro 2. toiseen DataFrameen [url:sta](https://student.labranet.jamk.fi/~huoptu/datananal_s20/kerta6/harjoitukset/indoormeas.csv),\n",
    "* muodostaa datan nro 2. DataFrameen aikaleiman indeksiksi muodossa 'vuosi-kuukausi-päivä tunnit:minuutit:sekunnit', kun mittaukset ovat alkaneet '2020-11-05 08:40:00' ja sarake 'time, s' kertoo ajan mittausten alusta sekunteina,\n",
    "* yhdistää aikasarjadatojen nro 1. ja nro 2. kaikki lämpötilat 'Air temperature, degC' ja 'Temp, C-deg' yhteen DataFrameen aikaleimojen perusteella kasvavaan aikajärjestykseen siten, että yhdistetyssä DataFramessa indeksi kertoo mittaustapahtumien ajanhetken,\n",
    "* puuttuvien lämpötilojen arvot täytetään DataFrameen em. aikajärjestyksessä edellisillä lämpötilan arvoilla,\n",
    "* laskee uuteen DataFrameen sarakkeeseen 'Temp_diff, C-deg' kuinka paljon lämpötila 'Temp, C-deg' on suurempi kuin lämpötila 'Air temperature, degC',\n",
    "* laskee DataFrameen lämpötilojen erotuksen 'Temp_diff, C-deg' liukuvan keskiarvon kolmen tunnin aikaikkunalla sarakkeeseen 'Temp_roll, C-deg',\n",
    "* pyöristää ja esittää DataFramen lukuarvot kolmen desimaalin tarkkuudella,\n",
    "* tulostaa lopputulokseen viisi ensimmäistä riviä sarakkeista 'Temp_diff, C-deg' ja 'Temp_roll, C-deg' ajanhetkestä '2020-11-05 12:59:00' eteenpäin.\n",
    "\n",
    "**Esimerkiksi tempdiff(url1, url2) tulostaa:**\n",
    "<img src=\"https://student.labranet.jamk.fi/~huoptu/datananal_s20/kerta6/harjoitukset/h6t4.png\" width=\"350\"/>"
   ]
  },
  {
   "cell_type": "code",
   "execution_count": 260,
   "metadata": {},
   "outputs": [
    {
     "name": "stdout",
     "output_type": "stream",
     "text": [
      "                    Temp_diff, C-deg Temp_roll, C-deg\n",
      "                                                     \n",
      "2020-11-05 13:00:00           12.590           12.604\n",
      "2020-11-05 13:01:00           12.590           12.600\n",
      "2020-11-05 13:02:00           12.590           12.597\n",
      "2020-11-05 13:03:00           12.590           12.594\n",
      "2020-11-05 13:03:59           12.590           12.591\n",
      "...                              ...              ...\n",
      "2020-11-11 00:18:00           13.150           12.490\n",
      "2020-11-11 00:18:59           13.150           12.495\n",
      "2020-11-11 00:19:59           13.200           12.500\n",
      "2020-11-11 00:21:00           13.200           12.505\n",
      "2020-11-11 00:22:00           13.200           12.511\n",
      "\n",
      "[7883 rows x 2 columns]\n"
     ]
    }
   ],
   "source": [
    "import datetime as dt\n",
    "def tempdiff(url1, url2):\n",
    "    df1=pd.read_csv(url1)\n",
    "    df2=pd.read_csv(url2,sep='\\t')\n",
    "    \n",
    "    start = pd.Timestamp('2020-11-05T08:40')\n",
    "    ajat = df2['time, s'].astype('timedelta64[s]') + start\n",
    "    df2=df2.set_index(ajat)\n",
    "    df2=df2.drop(columns=['time, s'])\n",
    "    df1=df1.set_index('Unnamed: 0')\n",
    "\n",
    "    df3=df2.join(df1['Air temperature, degC'])\n",
    "    df3=df3.sort_values('time, s')\n",
    "    df3['Air temperature, degC']=df3['Air temperature, degC'].fillna(method='ffill')\n",
    "    df3['Temp_diff, C-deg']=df3['Temp, C-deg']-df3['Air temperature, degC']\n",
    "    df3['Temp_roll, C-deg']=df3['Temp_diff, C-deg'].rolling('3h').mean()\n",
    "    \n",
    "    df4=df3[['Temp_diff, C-deg','Temp_roll, C-deg']]\n",
    "    df4=df4.applymap(\"{:.3f}\".format)\n",
    "    df4=df4.loc[df4.index>'2020-11-05 12:59:00']\n",
    "    df4=df4.rename_axis('',axis=0)\n",
    "    print(df4)\n",
    "\n",
    "# Voit kokeillä funktiosi toimivuutta:\n",
    "url1 = 'https://student.labranet.jamk.fi/~huoptu/datananal_s20/kerta6/harjoitukset/saatiedot_kumpula_1d.csv'    \n",
    "url2 = 'https://student.labranet.jamk.fi/~huoptu/datananal_s20/kerta6/harjoitukset/indoormeas.csv'\n",
    "tempdiff(url1, url2)"
   ]
  }
 ],
 "metadata": {
  "kernelspec": {
   "display_name": "Python 3",
   "language": "python",
   "name": "python3"
  },
  "language_info": {
   "codemirror_mode": {
    "name": "ipython",
    "version": 3
   },
   "file_extension": ".py",
   "mimetype": "text/x-python",
   "name": "python",
   "nbconvert_exporter": "python",
   "pygments_lexer": "ipython3",
   "version": "3.8.3"
  }
 },
 "nbformat": 4,
 "nbformat_minor": 4
}
