{
 "cells": [
  {
   "cell_type": "markdown",
   "metadata": {},
   "source": [
    "# Datan analysointi S2020 - Tehtävät kerta 3\n",
    "\n",
    "Palauta ratkaisusi Moodleen, kun olet ensin testannut ratkaisusi toimivuuden Notebookilla tai omalla koneellasi. Kun olet palauttanut tehtäväsi Moodleen, ne arvioidaan pistein:\n",
    "* 1,0 p. Vastaus oikein ensimmäisellä yrityksellä.\n",
    "* 0,5 p. Vastaus oikein toisella yrityksellä.\n",
    "* 0 p. Vastaus väärin kolmannella yrityksellä.\n",
    "\n",
    "**Tee tehtävät ilman for-silmukoita tms.**"
   ]
  },
  {
   "cell_type": "markdown",
   "metadata": {},
   "source": [
    "### 1. Päästöjen aiheuttajia\n",
    "\n",
    "Tee funktio emissions(url), joka tekee järjestyksessä seuraavaa:\n",
    "* lataa datan DataFrameen url:sta, jossa eroinmerkkinä on tabulaattori ('\\t'),\n",
    "* tallentaa DataFrameen sarakkeet 'country' ja 'main activity sector name',\n",
    "* poistaa DataFramesta rivit, jos sarakkeessa 'main activity sector name' esiintyy merkkijonot '20-99 All stationary installations' tai '21-99 All industrial installations (excl. combustion)'\n",
    "* laskee kuinka monta kertaa sarakkeen 'main activity sector name' eri arvot esiintyvät DataFramessa,\n",
    "* tulostaa (viisi ensimmäistä riviä) järjestyksessä pienimmästä suurimpaan sarakkeen 'main activity sector name' arvojen lukumäärät.\n",
    "\n",
    "Tässä tehtävässä url=https://student.labranet.jamk.fi/~huoptu/datananal_s20/kerta3/harjoitukset/ETS_Database_v38A.csv\n",
    "\n",
    "Esimerkiksi, emissions(url) tulostaa:\n",
    "\n",
    "| | | |\n",
    "|:---|:---|:---|\n",
    "|45 |Capture of greenhouse gases under Directive 2009/31/EC      | 14|\n",
    "|46 |Transport of greenhouse gases under Directive 2009/31/EC    | 22|\n",
    "|40 |Production of glyoxal and glyoxylic acid                    | 37|\n",
    "|39 |Production of adipic acid                                   | 43|\n",
    "|44 |Production of soda ash and sodium bicarbonate               |325|\n",
    "|Name: sector, dtype: int64| | |"
   ]
  },
  {
   "cell_type": "code",
   "execution_count": 39,
   "metadata": {},
   "outputs": [
    {
     "name": "stdout",
     "output_type": "stream",
     "text": [
      "45 Capture of greenhouse gases under Directive 2009/31/EC       14\n",
      "46 Transport of greenhouse gases under Directive 2009/31/EC     22\n",
      "40 Production of glyoxal and glyoxylic acid                     37\n",
      "39 Production of adipic acid                                    43\n",
      "44 Production of soda ash and sodium bicarbonate               325\n",
      "Name: sector, dtype: int64\n"
     ]
    }
   ],
   "source": [
    "import pandas as pd\n",
    "import numpy as np\n",
    "def emissions(url):\n",
    "    def poistaalusta(x):\n",
    "        return x[1:]\n",
    "    def poistalopusta(x):\n",
    "        return x[:-1]\n",
    "    df=pd.read_table(url, sep=\"\\t\", quoting=3, converters = {'\"country' : poistaalusta, 'year\"' : poistalopusta}, usecols=['\"country', 'main activity sector name'])\n",
    "    df=df.rename(columns={'\"country':'country','year\"':'year','main activity sector name':'sector'})\n",
    "    df=df[~df['sector'].isin(['20-99 All stationary installations','21-99 All industrial installations (excl. combustion)'])]\n",
    "    df=df['sector'].value_counts()\n",
    "    df=df.sort_values()\n",
    "    print(df.head(5))\n",
    "    \n",
    "# Testaa funktiotasi:\n",
    "url='https://student.labranet.jamk.fi/~huoptu/datananal_s20/kerta3/harjoitukset/ETS_Database_v38A.csv'\n",
    "emissions(url)"
   ]
  },
  {
   "cell_type": "markdown",
   "metadata": {},
   "source": [
    "### 2. Päästöjen summaaminen\n",
    "\n",
    "Tee funktio emissions(url), joka tekee järjestyksessä seuraavaa:\n",
    "* lataa datan DataFrameen url:sta, jossa eroinmerkkinä on tabulaattori ('\\t'),\n",
    "* tallentaa DataFrameen sarakkeet 'main activity sector name', 'value' ja 'year',\n",
    "* poistaa DataFramesta rivit, jos sarakkeessa 'main activity sector name' esiintyy merkkijonot '20-99 All stationary installations' tai '21-99 All industrial installations (excl. combustion)'\n",
    "* tallentaa uuteen DataFrameen kaikki rivit, joissa sarakkeen 'year' lukuarvo on yhtäsuuri tai suurempi kuin 2010 ja yhtäsuuri tai pienempi kuin 2015.\n",
    "* laskee uuteen DataFrameen kuinka paljon ovat kokonaispäästöt sektoreittain (summa sarakkeesta 'values', jotka on ryhmitelty sarakkeen 'main activity sector name' mukaan),\n",
    "* järjestää uuden DataFramen rivit suurimmasta pienimpään sarakkeen 'value' mukaan,\n",
    "* tulostaa viisi ensimmäistä riviä DataFramesta siten, että sarake 'main activity sector name' on nimetty sarakkeeksi 'sector',\n",
    "* huomaa, että sarake 'value' on ennen saraketta 'sector'.\n",
    "\n",
    "Tässä tehtävässä url=https://student.labranet.jamk.fi/~huoptu/datananal_s20/kerta3/harjoitukset/ETS_Database_v38A.csv\n",
    "\n",
    "Esimerkiksi, emissions(url) tulostaa:\n",
    "\n",
    "|   | value        |                   sector             |\n",
    "|:---|:---|:---|\n",
    "|1  | 1.273006e+10 |              20 Combustion of fuels  |\n",
    "|5  | 2.053915e+09 | 24  Production of pig iron or steel  |\n",
    "|10 | 1.803550e+09 |     29 Production of cement clinker  |\n",
    "|2  | 1.678130e+09 |         21  Refining of mineral oil  |\n",
    "|0  | 5.644274e+08 |                         10 Aviation  |"
   ]
  },
  {
   "cell_type": "code",
   "execution_count": 48,
   "metadata": {},
   "outputs": [
    {
     "name": "stdout",
     "output_type": "stream",
     "text": [
      "           value                               sector\n",
      "1   1.273006e+10               20 Combustion of fuels\n",
      "5   2.053915e+09  24  Production of pig iron or steel\n",
      "10  1.803550e+09      29 Production of cement clinker\n",
      "2   1.678130e+09          21  Refining of mineral oil\n",
      "0   5.644274e+08                          10 Aviation\n"
     ]
    }
   ],
   "source": [
    "import pandas as pd\n",
    "import numpy as np\n",
    "def emissions(url):\n",
    "    def poistaalusta(x):\n",
    "        return x[1:]\n",
    "    def poistalopusta(x):\n",
    "        return x[:-1]\n",
    "    df=pd.read_table(url, sep=\"\\t\", quoting=3, converters = {'\"country' : poistaalusta, 'year\"' : poistalopusta}, usecols=['main activity sector name','value','year\"'])\n",
    "    df=df.rename(columns={'\"country':'country','year\"':'year'})\n",
    "    df=df[~df['main activity sector name'].isin(['20-99 All stationary installations','21-99 All industrial installations (excl. combustion)'])]\n",
    "    df2=df[(df['year']>='2010') & (df['year']<='2015')]\n",
    "    df2=pd.DataFrame(df2['value'].groupby(df2['main activity sector name']).sum()).reset_index()\n",
    "    df2=df2.sort_values('value',ascending=False)\n",
    "    df2=df2.rename(columns={'value':'value','main activity sector name':'sector'})\n",
    "    df2 = df2.reindex(columns=['value','sector'])\n",
    "    print(df2.head(5))\n",
    "    \n",
    "# Testaa funktiotasi:\n",
    "url='https://student.labranet.jamk.fi/~huoptu/datananal_s20/kerta3/harjoitukset/ETS_Database_v38A.csv'\n",
    "emissions(url)"
   ]
  },
  {
   "cell_type": "markdown",
   "metadata": {},
   "source": [
    "### 3. Päästöjen muutokset vuosittain\n",
    "\n",
    "Tee funktio emissions(url), joka tekee järjestyksessä seuraavaa:\n",
    "* lataa datan DataFrameen url:sta, jossa eroinmerkkinä on tabulaattori ('\\t'),\n",
    "* tallentaa DataFrameen sarakkeet 'country_code', 'main activity sector name', 'value' ja 'year',\n",
    "* poistaa DataFramesta rivit, jos sarakkeessa 'main activity sector name' esiintyy merkkijonot '20-99 All stationary installations' tai '21-99 All industrial installations (excl. combustion)'\n",
    "* tallentaa uuteen DataFrameen kaikki rivit, joissa sarakkeen 'year' lukuarvo on yhtäsuuri tai suurempi kuin 2010 ja yhtäsuuri tai pienempi kuin 2015.\n",
    "* laskee uuteen DataFrameen kuinka paljon päästöjä on ollut yhteensä vuosittain (laskee yhteen sarakkeen 'value' arvot, jotka on ryhmitelty sarakkeen 'year' arvojen mukaan),\n",
    "* laskee uuteen DataFrameen uuteen sarakkeeseen 'change' kuinka paljon päästöt muuttuivat prosentuaalisesti edellisestä vuodesta (huom! vuoden 2010 arvo saa olla NaN, koska vuoden 2009 arvot on suodatettu pois),\n",
    "* pyöristää em. prosentuaalisen muutoksen yhden desimaalin tarkkuuteen,\n",
    "* laskee DataFramen uuteen sarakkeeseen 'cumsum' kumulatiivisen päästöjen summan vuodesta 2010 vuoteen 2015,\n",
    "* tulostaa edellä kuvatulla tavalla tuotetun DataFramen siten, että DataFramen indeksinä on 'year'.\n",
    "\n",
    "Tässä tehtävässä url=https://student.labranet.jamk.fi/~huoptu/datananal_s20/kerta3/harjoitukset/ETS_Database_v38A.csv\n",
    "\n",
    "Esimerkiksi, emissions(url) tulostaa:\n",
    "\n",
    "| |emissions|  change        |cumsum |\n",
    "|:---|:---|:---|:---|\n",
    "|year     |                |       |                |\n",
    "|2010  \t\t|5.068290e+09  |   NaN | 5.068290e+09   |\n",
    "|2011  \t\t|3.505169e+09  | -30.8 | 8.573458e+09   |\n",
    "|2012  \t\t|3.788401e+09  |   8.1 | 1.236186e+10   |\n",
    "|2013  \t\t|2.833849e+09  | -25.2 | 1.519571e+10   |\n",
    "|2014  \t\t|2.891243e+09  |   2.0 | 1.808695e+10   |\n",
    "|2015  \t\t|3.341047e+09  |  15.6 | 2.142800e+10   |"
   ]
  },
  {
   "cell_type": "code",
   "execution_count": 41,
   "metadata": {},
   "outputs": [
    {
     "name": "stdout",
     "output_type": "stream",
     "text": [
      "         emissions  change        cumsum\n",
      "year                                    \n",
      "2010  5.068290e+09     NaN  5.068290e+09\n",
      "2011  3.505169e+09   -30.8  8.573458e+09\n",
      "2012  3.788401e+09     8.1  1.236186e+10\n",
      "2013  2.833849e+09   -25.2  1.519571e+10\n",
      "2014  2.891243e+09     2.0  1.808695e+10\n",
      "2015  3.341047e+09    15.6  2.142800e+10\n"
     ]
    }
   ],
   "source": [
    "def emissions(url):\n",
    "    def poistaalusta(x):\n",
    "        return x[1:]\n",
    "    def poistalopusta(x):\n",
    "        return x[:-1]\n",
    "    df=pd.read_table(url, sep=\"\\t\", quoting=3, converters = {'\"country' : poistaalusta, 'year\"' : poistalopusta}, usecols=['main activity sector name','value','year\"'])\n",
    "    df=df.rename(columns={'\"country':'country','year\"':'year'})\n",
    "    df=df[~df['main activity sector name'].isin(['20-99 All stationary installations','21-99 All industrial installations (excl. combustion)'])]\n",
    "    df2=df[(df['year']>='2010') & (df['year']<='2015')]\n",
    "    df2=pd.DataFrame(df2['value'].groupby(df['year']).sum())\n",
    "    df2['change']=(df2['value']/df2.shift(1)['value']-1)*100\n",
    "    df2=df2.round(1)\n",
    "    df2['cumsum']=df2['value'].cumsum()\n",
    "    df2=df2.rename(columns={'value':'emissions'})\n",
    "    print(df2)\n",
    "    \n",
    "# Testaa funktiotasi:\n",
    "url='https://student.labranet.jamk.fi/~huoptu/datananal_s20/kerta3/harjoitukset/ETS_Database_v38A.csv'\n",
    "emissions(url)"
   ]
  },
  {
   "cell_type": "markdown",
   "metadata": {},
   "source": [
    "### 4. Suurimmat kokonaispäästöt maittain\n",
    "\n",
    "Tee funktio emissions(url), joka tekee järjestyksessä seuraavaa:\n",
    "* lataa datan DataFrameen url:sta, jossa eroinmerkkinä on tabulaattori ('\\t'),\n",
    "* tallentaa DataFrameen sarakkeet 'country_code', 'main activity sector name', 'value' ja 'year',\n",
    "* poistaa DataFramesta rivit, jos sarakkeessa 'main activity sector name' esiintyy merkkijonot '20-99 All stationary installations' tai '21-99 All industrial installations (excl. combustion)'\n",
    "* tallentaa uuteen DataFrameen kaikki rivit, joissa sarakkeen 'year' lukuarvo on yhtäsuuri tai suurempi kuin 2010 ja yhtäsuuri tai pienempi kuin 2015.\n",
    "* laskee uuteen DataFrameen kuinka paljon päästöjä kukin maa on tuottanut minäkin vuonna (laskee yhteen sarakkeen 'value' arvot, jotka on ryhmitelty sarakkeiden 'country_code' ja 'year' mukaan),\n",
    "* tallentaa uuteen DataFrameen kunkin maan (sarake 'country_code') suurimmat päästöt (sarake 'value') ja päästön tuottamisvuoden (sarake 'year'),\n",
    "* järjestää em. DataFramen rivit suurimmasta pienimpään sarakkeen 'value' mukaan,\n",
    "* nimeää sarakkeen 'country_code' sarakkeeksi 'ccode',\n",
    "* tarvittaessa järjestää sarakkeet järjestykseen 'ccode', 'year', 'value' ja tulostaa viisi ensimmäistä riviä.\n",
    "\n",
    "**Vinkki:** Tutki tarvittaessa pandasin groupby metodin [kuvausta](https://pandas.pydata.org/pandas-docs/stable/reference/api/pandas.DataFrame.groupby.html).\n",
    "\n",
    "Tässä tehtävässä url=https://student.labranet.jamk.fi/~huoptu/datananal_s20/kerta3/harjoitukset/ETS_Database_v38A.csv\n",
    "\n",
    "Esimerkiksi, emissions(url) tulostaa:\n",
    "\n",
    "| |ccode | year |    value |\n",
    "|:---|:---|:---|:---|\n",
    "|30    | DE   |\t2010 | 1.298336e+09 |\n",
    "|66    | GB   |\t2010 | 6.420594e+08 |\n",
    "|50    | ES   |\t2012 | 5.579101e+08 |\n",
    "|150   | PL   |\t2010 | 4.605025e+08 |\n",
    "|102   | IT   |\t2010 | 4.505878e+08 |"
   ]
  },
  {
   "cell_type": "code",
   "execution_count": 224,
   "metadata": {},
   "outputs": [
    {
     "name": "stdout",
     "output_type": "stream",
     "text": [
      "    ccode  year         value\n",
      "30     DE  2010  1.298336e+09\n",
      "66     GB  2010  6.420594e+08\n",
      "50     ES  2012  5.579101e+08\n",
      "150    PL  2010  4.605025e+08\n",
      "102    IT  2010  4.505878e+08\n"
     ]
    }
   ],
   "source": [
    "def emissions(url):\n",
    "    def poistaalusta(x):\n",
    "        return x[1:]\n",
    "    def poistalopusta(x):\n",
    "        return x[:-1]\n",
    "    df=pd.read_table(url, sep=\"\\t\", quoting=3, converters = {'\"country' : poistaalusta, 'year\"' : poistalopusta}, usecols=['country_code','main activity sector name','value','year\"'])\n",
    "    df=df.rename(columns={'\"country':'country','year\"':'year'})\n",
    "    df=df[~df['main activity sector name'].isin(['20-99 All stationary installations','21-99 All industrial installations (excl. combustion)'])]\n",
    "    df2=df[(df['year']>='2010') & (df['year']<='2015')]\n",
    "    #df2=pd.DataFrame(df2.groupby([df2['country_code'], df2['year']],as_index=False)['value'].sum())\n",
    "    df2=df2.groupby([df2['country_code'], df2['year']],as_index=False).sum()\n",
    "    df2=df2.sort_values('value', ascending=False).drop_duplicates('country_code')\n",
    "    df2=df2.rename(columns={'country_code':'ccode'})\n",
    "    #df2.groupby('country_code').agg({'year' : 'year'})\n",
    "    #df2=df2.groupby(['country_code'])['value'].max().reset_index()\n",
    "    #df2=df2.groupby(['country_code','year']).apply(max) \n",
    "    #df2=df2.groupby(level=0).apply(max) \n",
    "    #df2=df2[df2['value']==df2['value'].max()]\n",
    "    print(df2.head(5))\n",
    "    \n",
    "# Testaa funktiotasi:\n",
    "url='https://student.labranet.jamk.fi/~huoptu/datananal_s20/kerta3/harjoitukset/ETS_Database_v38A.csv'\n",
    "emissions(url)"
   ]
  },
  {
   "cell_type": "markdown",
   "metadata": {},
   "source": [
    "### 5. Toiseksi suurimmat kokonaispäästöt maittain\n",
    "\n",
    "Tee funktio emissions(url), joka tekee järjestyksessä seuraavaa:\n",
    "* lataa datan DataFrameen url:sta, jossa eroinmerkkinä on tabulaattori ('\\t'),\n",
    "* tallentaa DataFrameen sarakkeet 'country_code', 'main activity sector name', 'value' ja 'year',\n",
    "* poistaa DataFramesta rivit, jos sarakkeessa 'main activity sector name' esiintyy merkkijonot '20-99 All stationary installations' tai '21-99 All industrial installations (excl. combustion)'\n",
    "* tallentaa uuteen DataFrameen kaikki rivit, joissa sarakkeen 'year' lukuarvo on yhtäsuuri tai suurempi kuin 2010 ja yhtäsuuri tai pienempi kuin 2015.\n",
    "* laskee uuteen DataFrameen kuinka paljon päästöjä kukin maa on tuottanut minäkin vuonna (laskee yhteen sarakkeen 'value' arvot, jotka on ryhmitelty sarakkeiden 'country_code' ja 'year' mukaan),\n",
    "\n",
    "* tallentaa uuteen DataFrameen kunkin maan (sarake 'country_code') **toiseksi** suurimmat päästöt (sarake 'value') ja päästön tuottamisvuoden (sarake 'year'),\n",
    "* järjestää em. DataFramen rivit suurimmasta pienimpään sarakkeen 'value' mukaan,\n",
    "* nimeää sarakkeen 'country_code' sarakkeeksi 'ccode',\n",
    "* tarvittaessa järjestää sarakkeet järjestykseen 'ccode', 'year', 'value' ja tulostaa viisi ensimmäistä riviä.\n",
    "\n",
    "**Vinkkejä:** \n",
    "* Tutki tarvittaessa pandasin [groupby](https://pandas.pydata.org/pandas-docs/stable/reference/api/pandas.DataFrame.groupby.html) ja [agg](https://pandas.pydata.org/pandas-docs/stable/reference/api/pandas.DataFrame.agg.html) metodien kuvauksia.\n",
    "* Jos käytät pandasin agg metodin argumenttina funktiota, niin tulee funktion sisällä etsiä toiseksi suurin arvo .iloc ominaisuudella (Tämä on tärkeää etenkin tehtävän Moodle palautuksen yhteydessä). \n",
    "\n",
    "Tässä tehtävässä url=https://student.labranet.jamk.fi/~huoptu/datananal_s20/kerta3/harjoitukset/ETS_Database_v38A.csv\n",
    "\n",
    "Esimerkiksi, emissions(url) tulostaa:\n",
    "\n",
    "| |ccode | year |    value |\n",
    "|:---|:---|:---|:---|\n",
    "|33    | DE  |2013  |1.073414e+09|\n",
    "|49    | ES  |2011  |5.561922e+08|\n",
    "|152   | PL  |2012  |4.348634e+08|\n",
    "|67    | GB  |2011  |4.252068e+08|\n",
    "|62    | FR  |2012  |3.104471e+08|"
   ]
  },
  {
   "cell_type": "code",
   "execution_count": 38,
   "metadata": {},
   "outputs": [
    {
     "name": "stdout",
     "output_type": "stream",
     "text": [
      "    ccode  year         value\n",
      "33     DE  2013  1.073414e+09\n",
      "49     ES  2011  5.561922e+08\n",
      "152    PL  2012  4.348634e+08\n",
      "67     GB  2011  4.252068e+08\n",
      "62     FR  2012  3.104471e+08\n"
     ]
    }
   ],
   "source": [
    "import pandas as pd\n",
    "import numpy as np\n",
    "def emissions(url):\n",
    "    def poistaalusta(x):\n",
    "        return x[1:]\n",
    "    def poistalopusta(x):\n",
    "        return x[:-1]\n",
    "    df=pd.read_table(url, sep=\"\\t\", quoting=3, converters = {'\"country' : poistaalusta, 'year\"' : poistalopusta}, usecols=['country_code','main activity sector name','value','year\"'])\n",
    "    df=df.rename(columns={'\"country':'country','year\"':'year'})\n",
    "    df=df[~df['main activity sector name'].isin(['20-99 All stationary installations','21-99 All industrial installations (excl. combustion)'])]\n",
    "    df2=df[(df['year']>='2010') & (df['year']<='2015')]\n",
    "    df2=df2.groupby([df2['country_code'], df2['year']],as_index=False).sum()\n",
    "    df2=df2.rename(columns={'country_code':'ccode'})\n",
    "    df2=df2.sort_values('value', ascending=False)\n",
    "    df2=df2[df2.groupby('ccode').cumcount() == 1]\n",
    "    print(df2.head(5))\n",
    "    \n",
    "# Testaa funktiotasi:\n",
    "url='https://student.labranet.jamk.fi/~huoptu/datananal_s20/kerta3/harjoitukset/ETS_Database_v38A.csv'\n",
    "emissions(url)"
   ]
  }
 ],
 "metadata": {
  "kernelspec": {
   "display_name": "Python 3",
   "language": "python",
   "name": "python3"
  },
  "language_info": {
   "codemirror_mode": {
    "name": "ipython",
    "version": 3
   },
   "file_extension": ".py",
   "mimetype": "text/x-python",
   "name": "python",
   "nbconvert_exporter": "python",
   "pygments_lexer": "ipython3",
   "version": "3.8.3"
  }
 },
 "nbformat": 4,
 "nbformat_minor": 4
}
