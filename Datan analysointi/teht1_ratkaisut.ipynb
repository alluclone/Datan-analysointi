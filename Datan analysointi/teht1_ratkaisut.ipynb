{
 "cells": [
  {
   "cell_type": "markdown",
   "metadata": {},
   "source": [
    "# Datan analysointi K2019 - Tehtävät kerta 1  - ratkaisuja"
   ]
  },
  {
   "cell_type": "markdown",
   "metadata": {},
   "source": [
    "## 1a.   Lukujen tulostus\n",
    "Kirjoita ohjelma, joka kysyy käyttäjältä kaksi eri kokonaislukua, ja tulostaa\n",
    "järjestyksessä kaikki näiden lukujen välillä olevat kokonaisluvut (nämä luvut mukaanlukien).\n",
    "\n",
    "## 1b.  Poista tuplat\n",
    "\n",
    "Muodosta funktio, joka poistaa annetusta merkkijonosta \"duplikaatit\". Toisin sanoen funktio saa syötteenään merkkijonon, jossa saattaa esiintyä joitain merkkejä useampia kertoja, ja palauttaa merkkijonon, jossa on vain kunkin merkin ensimmäinen esiintyminen alkueperäisessä merkkijonossa.  \n",
    "\n",
    "Esim.  saippuakauppias -> saipuk\n"
   ]
  },
  {
   "cell_type": "code",
   "execution_count": 2,
   "metadata": {},
   "outputs": [
    {
     "name": "stdout",
     "output_type": "stream",
     "text": [
      "Ensimmäinen kokonaisluku: 4\n",
      "Toinen kokonaisluku: 6\n",
      "4\n",
      "5\n",
      "6\n"
     ]
    }
   ],
   "source": [
    "luku1 = int(input('Ensimmäinen kokonaisluku: '))\n",
    "luku2 = int(input('Toinen kokonaisluku: '))\n",
    "\n",
    "if luku1 < luku2:\n",
    "    for i in range(luku1, luku2 + 1): print(i)\n",
    "else:\n",
    "    for i in range(luku1, luku2 + 1): print(i)"
   ]
  },
  {
   "cell_type": "code",
   "execution_count": 5,
   "metadata": {},
   "outputs": [
    {
     "name": "stdout",
     "output_type": "stream",
     "text": [
      "saipuk\n",
      "{'s': None, 'a': None, 'i': None, 'p': None, 'u': None, 'k': None}\n",
      "saipuk\n"
     ]
    }
   ],
   "source": [
    "def poistaTuplat(mjono):\n",
    "    \n",
    "    palautus = ''\n",
    "\n",
    "    for i in mjono:\n",
    "        if (i not in palautus):\n",
    "            palautus += i\n",
    "    return palautus\n",
    "            \n",
    "print(poistaTuplat(\"saippuakauppias\"))\n",
    "\n",
    "\n",
    "# tapa2\n",
    "def remove_duplicates(s):\n",
    "    return ''.join(dict.fromkeys(s))  \n",
    "\n",
    "print(remove_duplicates('saippuakauppias'))"
   ]
  },
  {
   "cell_type": "markdown",
   "metadata": {},
   "source": [
    "## 2. Nopanheitto\n",
    "Tutustu random-moduulin random-funktioon ja tee funktio, joka simuloi nopanteittoa. \n",
    "\n",
    "Tee sen avulla ohjelma, joka heittää neljää noppaa 1 000 000 kertaa ja laskee kuinka monta kertaa näissä 1 000 000 heitossa toistuu tilanne, jossa ei tule yhtään kuutosta.\n",
    "\n",
    "(Keskimäärin tämä tapahtuu 482 253 kertaa)\n"
   ]
  },
  {
   "cell_type": "code",
   "execution_count": 59,
   "metadata": {},
   "outputs": [
    {
     "name": "stdout",
     "output_type": "stream",
     "text": [
      "482143\n"
     ]
    }
   ],
   "source": [
    "import random\n",
    "def noppa():\n",
    "    return int(random.random()*6)+1\n",
    "\n",
    "ei_kutosia = 0\n",
    "for i in range(0,1000000):\n",
    "     if noppa() <6 and noppa()<6 and noppa()<6 and noppa()<6:\n",
    "        ei_kutosia += 1\n",
    "        \n",
    "print(ei_kutosia)"
   ]
  },
  {
   "cell_type": "markdown",
   "metadata": {},
   "source": [
    "## 3. Piste\n",
    "Tee luokka Piste, jolle annetaan konstruktorissa 3 parametria x, y ja z oletusarvoilla 0,0,0  \n",
    "\n",
    "Tee luokkaan metodi tulostaPiste, joka tulostaa pisteen tiedot muodossa (x, y, z)  \n",
    "\n",
    "Tee luokkaan metodi lisaa, jolle annetaan parametrina toinen piste ja joka lisää alkuperäisen pisteen (olion) kenttiin toisen pisteen x, y ja z:n.  \n",
    "\n",
    "Tee luokkaan metodi vahenna, jolle annetaan parametrina toinen piste ja joka vahentää alkuperäisen pisteen (olion) kentistä. toisen pisteen x, y ja z:n.  \n",
    "\n",
    "Tee luokkaan metodi etaisyysOrigosta, joka palauttaa pisteen etäisyyden origosta kaavalla neliöjuuri(x^2+y^2+z^2)  \n",
    "\n",
    "Tee luokkaan metodi kauempana, jolle annetaan parametrina toinen piste, ja joka palauttaa True, jos tämä alkuperäinen piste on kauempana origosta kuin toinen piste, muuten False. \n",
    "\n",
    "Esimerkkitoimintaa:\n",
    "\n",
    "\n",
    "    p1 = Piste(-3,-4,5)\n",
    "    p1.tulostaPiste() \n",
    "    -> tulostaa (-3,-4,5)\n",
    "\n",
    "    p2 = Piste(1,1,1)\n",
    "    p1.lisaa(p2)\n",
    "    p1.tulostaPiste() \n",
    "    -> tulostaa (-2,-3,6)\n",
    "\n",
    "    p1.vahenna(Piste(3,3,3))\n",
    "    p1.tulostaPiste() \n",
    "    -> tulostaa (-5,-6,3)\n",
    "\n",
    "    print(p1.etaisyysOrigosta())\n",
    "    -> tulostaa 8.366600265340756\n",
    "\n",
    "    print(p1.kauempana(p2))\n",
    "    -> tulostaa True\n"
   ]
  },
  {
   "cell_type": "code",
   "execution_count": 61,
   "metadata": {},
   "outputs": [
    {
     "name": "stdout",
     "output_type": "stream",
     "text": [
      "-3,-4,5\n",
      "-2,-3,6\n",
      "-5,-6,3\n",
      "8.366600265340756\n",
      "True\n"
     ]
    }
   ],
   "source": [
    "class Piste:\n",
    "    \n",
    "    def __init__(self, x=0, y=0, z=0):\n",
    "      self.x = x\n",
    "      self.y = y\n",
    "      self.z = z\n",
    "    \n",
    "    def tulostaPiste(self):\n",
    "        print(\"{},{},{}\".format(self.x,self.y,self.z))\n",
    "    \n",
    "    def lisaa(self, toinen):\n",
    "        self.x += toinen.x\n",
    "        self.y += toinen.y\n",
    "        self.z += toinen.z\n",
    "        \n",
    "    def vahenna(self, toinen):\n",
    "        self.x -= toinen.x\n",
    "        self.y -= toinen.y\n",
    "        self.z -= toinen.z\n",
    "    \n",
    "    def etaisyysOrigosta(self):\n",
    "        return (self.x**2 + self.y**2 + self.z**2)**0.5\n",
    "    \n",
    "    def kauempana(self, toinen):\n",
    "        return self.etaisyysOrigosta() > toinen.etaisyysOrigosta()\n",
    "        \n",
    "        \n",
    "p1 = Piste(-3,-4,5)\n",
    "p1.tulostaPiste() \n",
    "#-> tulostaa (-3,-4,5)\n",
    "\n",
    "p2 = Piste(1,1,1)\n",
    "p1.lisaa(p2)\n",
    "p1.tulostaPiste() \n",
    "#-> tulostaa (-2,-3,6)\n",
    "\n",
    "p1.vahenna(Piste(3,3,3))\n",
    "p1.tulostaPiste() \n",
    "#-> tulostaa (-5,-6,3)\n",
    "\n",
    "print(p1.etaisyysOrigosta())\n",
    "#-> tulostaa 8.366600265340756\n",
    "\n",
    "print(p1.kauempana(p2))\n",
    "#-> tulostaa True\n"
   ]
  },
  {
   "cell_type": "markdown",
   "metadata": {},
   "source": [
    "## 4. Tiedoston luku\n",
    "Tee ohjelma, joka kysyy käyttäjältä tiedoston nimeä (ilman tietdostopäätettä), esim nimi.  \n",
    "Sitten ohjema yrittää avata oletuskansiosta tiedostoa nimi.txt  \n",
    "Jos avaaminen onnistuu ohjelma lukee tiedoston ja tulostaa tiedostosta seuraavat tiedot:\n",
    "* montako riviä tiedostossa on\n",
    "* montako merkkiä tiedostossa on\n",
    "* montako a-kirjainta tiedostossa on (myös isot A-kirjaimet lasketaan)\n",
    "\n",
    "Jos avaaminen tai tiedoston lukeminen ei onnistu, ohjelma tulostaa virheilmoituksen.\n",
    "Kaikissa tapauksissa ohjelman tulee sulkea tiedosto lopuksi.\n"
   ]
  },
  {
   "cell_type": "code",
   "execution_count": 4,
   "metadata": {},
   "outputs": [
    {
     "name": "stdout",
     "output_type": "stream",
     "text": [
      "Anna tiedoston nimi: aaaWviews\n",
      "Rivejä: 14\n",
      "Merkkejä: 211\n",
      "a/A-kirjaimia: 1\n"
     ]
    }
   ],
   "source": [
    "name = input('Anna tiedoston nimi: ')\n",
    "\n",
    "try:\n",
    "    with open(name + '.txt') as file:\n",
    "        lineCount = 0\n",
    "        charCount = 0\n",
    "        aCount = 0\n",
    "\n",
    "        for line in file:\n",
    "            lineCount += 1\n",
    "            charCount += len(line)\n",
    "            aCount += (line.count('a')+line.count('A'))\n",
    "\n",
    "\n",
    "        print('Rivejä:', lineCount)\n",
    "        print('Merkkejä:', charCount)\n",
    "        print('a/A-kirjaimia:', aCount)\n",
    "\n",
    "except OSError as e:\n",
    "    print(e)\n",
    "    "
   ]
  },
  {
   "cell_type": "markdown",
   "metadata": {},
   "source": [
    "## 5. GPS-datan purku\n",
    "Eräs gps-datasovellus tallentaa jokaisesta sijiannista aikaleiman, pituusasteet ja leveysasteet. Aikaleima on kokonais- tai liukuluku (sekunteja 2006-vuoden alusta).  Pituuus- ja leveysasteet ovat liukulukuja.\n",
    "\n",
    "Sovellus pakkaa datan riveille, niin että rivin ensimmäinen tietue on muotoa  \n",
    "**aikaleima_pituusaste\\*50000_leveysaste\\*100000  **\n",
    "\n",
    "jossa pituusaste\\*50000 ja leveysaste\\*100000 on pyöristetty kokonaisluvuiksi.   \n",
    "Esim.  \n",
    "aikaleima\t257008005  \n",
    "pituusaste\t27,36976  \n",
    "leveysaste\t61,52928  \n",
    "=> 257008005_1368488_6152928  \n",
    "\n",
    "rivin seuraavat tietueet kertovat kuinka paljon nämä lukemat eroavat **edellisestä tietueesta**, eli aikaleiman, pituusaste\\*50000 ja leveysaste\\*100000 -lukemien erotus kokonaislukuina. Nämä on erotettu alaviivalla ja tietueet pisteellä.\n",
    "\n",
    "Esim.   \n",
    "`    257008005_1368488_6152928.3_-5_6.3_2_0.`  \n",
    "\n",
    "toinen tietue:  \n",
    "aikaleima: 257008005 + 3 = 257008008  \n",
    "pituusaste\\*50000: 1368488 - 5 =  1368483  (= 27,36966)  \n",
    "leveysaste\\*100000: 6152928 + 6 = 6152934  (= 61,52934)\n",
    "\n",
    "kolmas tietue:  \n",
    "aikaleima: 257008008  + 3 = 257008011  \n",
    "pituusaste\\*50000: 1368483 + 2 =  1368485  (= 27,3697)  \n",
    "leveysaste\\*100000: 6152934 + 0 = 6152934  (= 61,52934)\n",
    "\n",
    "Edelleen, jos kaikki kolme eroa ovat välillä -31 ... 30, ne on korvattu merkillä, niin että **n = ero + 32**, ja otetaan n.:s merkki merkkijonosta\n",
    "**0123456789ABCDEFGHIJKLMNOPQRSTUVWXYZabcdefghijklmnopqrstuvwxyz**\n",
    " \n",
    "Siis  \n",
    "ero =  -31  => merkki = 0  \n",
    "ero =  -30  => merkki = 1  \n",
    "...  \n",
    "ero = 30 => merkki = z\n",
    "\n",
    " \n",
    "Tällöin ei käytetä alaviivoja.   \n",
    "Esimerkiksi c7N. tarkoittaa `.7_-24_-8.`\n",
    "\n",
    "Rivillä olevien tietueiden lukumäärää ei ole periaatteessa rajattu, mutta on käytännössä aina alle 50. Tietueita voi olla rivillä myös vain yksi.\n",
    "\n",
    "Voit olettaa että rivit ja tietueet ovat speksin mukaisia, eli ei tarvitse esim. tutkia tietueita, joissa olisi vain 2 merkkiä tms.\n",
    "\n",
    "Tee **funktio**, joka purkaa tällaisen rivin, eli ottaa parametrina rivin ja palauttaa **listan** tietueista niin että jokainen tietue on **sanakirja** (dictionary) avaimilla aikaleima, pituusaste ja leveysaste.\n",
    "\n",
    "\n",
    "\n",
    "Esim.  \n",
    "parametrilla `410605272_1185538_6631723.YXg.YUf.YQe.YJV.3_-10_0.3_-12_0.`  \n",
    "funktio palauttaa  \n",
    "`[{'aikaleima': 410605272, 'leveysaste': 66.31723, 'pituusaste': 23.71076},  \n",
    " {'aikaleima': 410605275, 'leveysaste': 66.31734, 'pituusaste': 23.7108},  \n",
    " {'aikaleima': 410605278, 'leveysaste': 66.31744, 'pituusaste': 23.71078},  \n",
    " {'aikaleima': 410605281, 'leveysaste': 66.31753, 'pituusaste': 23.71068},  \n",
    " {'aikaleima': 410605284, 'leveysaste': 66.31753, 'pituusaste': 23.71044},  \n",
    " {'aikaleima': 410605287, 'leveysaste': 66.31753, 'pituusaste': 23.71024},  \n",
    " {'aikaleima': 410605290, 'leveysaste': 66.31753, 'pituusaste': 23.71}]`  \n",
    "\n",
    "\n"
   ]
  },
  {
   "cell_type": "code",
   "execution_count": 14,
   "metadata": {},
   "outputs": [
    {
     "data": {
      "text/plain": [
       "[{'aikaleima': 410605272, 'leveysaste': 66.31723, 'pituusaste': 23.71076},\n",
       " {'aikaleima': 410605275, 'leveysaste': 66.31734, 'pituusaste': 23.7108},\n",
       " {'aikaleima': 410605278, 'leveysaste': 66.31744, 'pituusaste': 23.71078},\n",
       " {'aikaleima': 410605281, 'leveysaste': 66.31753, 'pituusaste': 23.71068},\n",
       " {'aikaleima': 410605284, 'leveysaste': 66.31753, 'pituusaste': 23.71044},\n",
       " {'aikaleima': 410605287, 'leveysaste': 66.31753, 'pituusaste': 23.71024},\n",
       " {'aikaleima': 410605290, 'leveysaste': 66.31753, 'pituusaste': 23.71}]"
      ]
     },
     "execution_count": 14,
     "metadata": {},
     "output_type": "execute_result"
    }
   ],
   "source": [
    "MJONO = '0123456789ABCDEFGHIJKLMNOPQRSTUVWXYZabcdefghijklmnopqrstuvwxyz'\n",
    "\n",
    "def puraGps(rivi):\n",
    "    osat = rivi.split('.')\n",
    "    \n",
    "    tuloslista = []\n",
    "    \n",
    "    osat2 = osat[0].split('_')\n",
    "    aika = int(osat2[0])\n",
    "    pituus = int(osat2[1])\n",
    "    leveys = int(osat2[2])\n",
    "    \n",
    "    tuloslista.append({'aikaleima':aika, 'pituusaste':pituus/50000, 'leveysaste': leveys/100000 })\n",
    "    \n",
    "    for i in range(1,len(osat)):\n",
    "      if len(osat[i]) == 3:\n",
    "        aikaero = MJONO.find(osat[i][0])-31\n",
    "        pituusero = MJONO.find(osat[i][1])-31\n",
    "        leveysero = MJONO.find(osat[i][2])-31\n",
    "      elif len(osat[i]) > 3:  \n",
    "        osat3 = osat[i].split('_')\n",
    "        aikaero = int(osat3[0])\n",
    "        pituusero = int(osat3[1])\n",
    "        leveysero = int(osat3[2])\n",
    "        \n",
    "      if  len(osat[i]) > 2:\n",
    "        aika += aikaero\n",
    "        pituus += pituusero\n",
    "        leveys += leveysero\n",
    "        tuloslista.append({'aikaleima':aika, 'pituusaste':pituus/50000, 'leveysaste': leveys/100000 })  \n",
    "   \n",
    "    return tuloslista    \n",
    "        \n",
    "testirivi = '410605272_1185538_6631723.YXg.YUf.YQe.YJV.3_-10_0.3_-12_0.'\n",
    "puraGps(testirivi)"
   ]
  }
 ],
 "metadata": {
  "kernelspec": {
   "display_name": "Python 3",
   "language": "python",
   "name": "python3"
  },
  "language_info": {
   "codemirror_mode": {
    "name": "ipython",
    "version": 3
   },
   "file_extension": ".py",
   "mimetype": "text/x-python",
   "name": "python",
   "nbconvert_exporter": "python",
   "pygments_lexer": "ipython3",
   "version": "3.8.3"
  }
 },
 "nbformat": 4,
 "nbformat_minor": 4
}
